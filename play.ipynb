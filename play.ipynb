{
 "cells": [
  {
   "cell_type": "code",
   "execution_count": 41,
   "metadata": {},
   "outputs": [],
   "source": [
    "from typing import *\n",
    "import pandas as pd\n",
    "import libcst as cst\n",
    "import re\n",
    "import networkx as nx"
   ]
  },
  {
   "cell_type": "code",
   "execution_count": 42,
   "metadata": {},
   "outputs": [
    {
     "name": "stdout",
     "output_type": "stream",
     "text": [
      "class A:\n",
      "\n",
      "    def __init__(self):\n",
      "        self._k = 2\n",
      "        pass\n",
      "\n",
      "    def _a(self, number):\n",
      "        if number == 2:\n",
      "            pass\n",
      "\n",
      "    def _c(self):\n",
      "        self._a(2)\n",
      "        self.b()\n",
      "\n",
      "    def b(self):\n",
      "        pass\n",
      "\n",
      "    def d(self):\n",
      "        self.b()\n",
      "        func = self._a\n",
      "        func(5)\n",
      "\n",
      "    B = 0\n",
      "\n"
     ]
    }
   ],
   "source": [
    "example_code = open('example.py', 'r').read()\n",
    "print(example_code)"
   ]
  },
  {
   "cell_type": "code",
   "execution_count": 43,
   "metadata": {},
   "outputs": [],
   "source": [
    "example_code_cst = cst.parse_module(example_code)\n",
    "# example_code_cst"
   ]
  },
  {
   "cell_type": "code",
   "execution_count": 44,
   "metadata": {},
   "outputs": [],
   "source": [
    "class_def = example_code_cst.body[0]\n",
    "# example_code_cst.body[0] = class_def.with_changes(whitespace_before_colon=cst.SimpleWhitespace(value=' '))"
   ]
  },
  {
   "cell_type": "code",
   "execution_count": 45,
   "metadata": {},
   "outputs": [],
   "source": [
    "class_nodes_iter = class_def.body.body\n",
    "# class_nodes_iter"
   ]
  },
  {
   "cell_type": "code",
   "execution_count": 46,
   "metadata": {},
   "outputs": [
    {
     "data": {
      "text/plain": [
       "FunctionDef(\n",
       "    name=Name(\n",
       "        value='d',\n",
       "        lpar=[],\n",
       "        rpar=[],\n",
       "    ),\n",
       "    params=Parameters(\n",
       "        params=[\n",
       "            Param(\n",
       "                name=Name(\n",
       "                    value='self',\n",
       "                    lpar=[],\n",
       "                    rpar=[],\n",
       "                ),\n",
       "                annotation=None,\n",
       "                equal=MaybeSentinel.DEFAULT,\n",
       "                default=None,\n",
       "                comma=MaybeSentinel.DEFAULT,\n",
       "                star='',\n",
       "                whitespace_after_star=SimpleWhitespace(\n",
       "                    value='',\n",
       "                ),\n",
       "                whitespace_after_param=SimpleWhitespace(\n",
       "                    value='',\n",
       "                ),\n",
       "            ),\n",
       "        ],\n",
       "        star_arg=MaybeSentinel.DEFAULT,\n",
       "        kwonly_params=[],\n",
       "        star_kwarg=None,\n",
       "        posonly_params=[],\n",
       "        posonly_ind=MaybeSentinel.DEFAULT,\n",
       "    ),\n",
       "    body=IndentedBlock(\n",
       "        body=[\n",
       "            SimpleStatementLine(\n",
       "                body=[\n",
       "                    Expr(\n",
       "                        value=Call(\n",
       "                            func=Attribute(\n",
       "                                value=Name(\n",
       "                                    value='self',\n",
       "                                    lpar=[],\n",
       "                                    rpar=[],\n",
       "                                ),\n",
       "                                attr=Name(\n",
       "                                    value='b',\n",
       "                                    lpar=[],\n",
       "                                    rpar=[],\n",
       "                                ),\n",
       "                                dot=Dot(\n",
       "                                    whitespace_before=SimpleWhitespace(\n",
       "                                        value='',\n",
       "                                    ),\n",
       "                                    whitespace_after=SimpleWhitespace(\n",
       "                                        value='',\n",
       "                                    ),\n",
       "                                ),\n",
       "                                lpar=[],\n",
       "                                rpar=[],\n",
       "                            ),\n",
       "                            args=[],\n",
       "                            lpar=[],\n",
       "                            rpar=[],\n",
       "                            whitespace_after_func=SimpleWhitespace(\n",
       "                                value='',\n",
       "                            ),\n",
       "                            whitespace_before_args=SimpleWhitespace(\n",
       "                                value='',\n",
       "                            ),\n",
       "                        ),\n",
       "                        semicolon=MaybeSentinel.DEFAULT,\n",
       "                    ),\n",
       "                ],\n",
       "                leading_lines=[],\n",
       "                trailing_whitespace=TrailingWhitespace(\n",
       "                    whitespace=SimpleWhitespace(\n",
       "                        value='',\n",
       "                    ),\n",
       "                    comment=None,\n",
       "                    newline=Newline(\n",
       "                        value=None,\n",
       "                    ),\n",
       "                ),\n",
       "            ),\n",
       "            SimpleStatementLine(\n",
       "                body=[\n",
       "                    Assign(\n",
       "                        targets=[\n",
       "                            AssignTarget(\n",
       "                                target=Name(\n",
       "                                    value='func',\n",
       "                                    lpar=[],\n",
       "                                    rpar=[],\n",
       "                                ),\n",
       "                                whitespace_before_equal=SimpleWhitespace(\n",
       "                                    value=' ',\n",
       "                                ),\n",
       "                                whitespace_after_equal=SimpleWhitespace(\n",
       "                                    value=' ',\n",
       "                                ),\n",
       "                            ),\n",
       "                        ],\n",
       "                        value=Attribute(\n",
       "                            value=Name(\n",
       "                                value='self',\n",
       "                                lpar=[],\n",
       "                                rpar=[],\n",
       "                            ),\n",
       "                            attr=Name(\n",
       "                                value='_a',\n",
       "                                lpar=[],\n",
       "                                rpar=[],\n",
       "                            ),\n",
       "                            dot=Dot(\n",
       "                                whitespace_before=SimpleWhitespace(\n",
       "                                    value='',\n",
       "                                ),\n",
       "                                whitespace_after=SimpleWhitespace(\n",
       "                                    value='',\n",
       "                                ),\n",
       "                            ),\n",
       "                            lpar=[],\n",
       "                            rpar=[],\n",
       "                        ),\n",
       "                        semicolon=MaybeSentinel.DEFAULT,\n",
       "                    ),\n",
       "                ],\n",
       "                leading_lines=[],\n",
       "                trailing_whitespace=TrailingWhitespace(\n",
       "                    whitespace=SimpleWhitespace(\n",
       "                        value='',\n",
       "                    ),\n",
       "                    comment=None,\n",
       "                    newline=Newline(\n",
       "                        value=None,\n",
       "                    ),\n",
       "                ),\n",
       "            ),\n",
       "            SimpleStatementLine(\n",
       "                body=[\n",
       "                    Expr(\n",
       "                        value=Call(\n",
       "                            func=Name(\n",
       "                                value='func',\n",
       "                                lpar=[],\n",
       "                                rpar=[],\n",
       "                            ),\n",
       "                            args=[\n",
       "                                Arg(\n",
       "                                    value=Integer(\n",
       "                                        value='5',\n",
       "                                        lpar=[],\n",
       "                                        rpar=[],\n",
       "                                    ),\n",
       "                                    keyword=None,\n",
       "                                    equal=MaybeSentinel.DEFAULT,\n",
       "                                    comma=MaybeSentinel.DEFAULT,\n",
       "                                    star='',\n",
       "                                    whitespace_after_star=SimpleWhitespace(\n",
       "                                        value='',\n",
       "                                    ),\n",
       "                                    whitespace_after_arg=SimpleWhitespace(\n",
       "                                        value='',\n",
       "                                    ),\n",
       "                                ),\n",
       "                            ],\n",
       "                            lpar=[],\n",
       "                            rpar=[],\n",
       "                            whitespace_after_func=SimpleWhitespace(\n",
       "                                value='',\n",
       "                            ),\n",
       "                            whitespace_before_args=SimpleWhitespace(\n",
       "                                value='',\n",
       "                            ),\n",
       "                        ),\n",
       "                        semicolon=MaybeSentinel.DEFAULT,\n",
       "                    ),\n",
       "                ],\n",
       "                leading_lines=[],\n",
       "                trailing_whitespace=TrailingWhitespace(\n",
       "                    whitespace=SimpleWhitespace(\n",
       "                        value='',\n",
       "                    ),\n",
       "                    comment=None,\n",
       "                    newline=Newline(\n",
       "                        value=None,\n",
       "                    ),\n",
       "                ),\n",
       "            ),\n",
       "        ],\n",
       "        header=TrailingWhitespace(\n",
       "            whitespace=SimpleWhitespace(\n",
       "                value='',\n",
       "            ),\n",
       "            comment=None,\n",
       "            newline=Newline(\n",
       "                value=None,\n",
       "            ),\n",
       "        ),\n",
       "        indent=None,\n",
       "        footer=[],\n",
       "    ),\n",
       "    decorators=[],\n",
       "    returns=None,\n",
       "    asynchronous=None,\n",
       "    leading_lines=[\n",
       "        EmptyLine(\n",
       "            indent=False,\n",
       "            whitespace=SimpleWhitespace(\n",
       "                value='',\n",
       "            ),\n",
       "            comment=None,\n",
       "            newline=Newline(\n",
       "                value=None,\n",
       "            ),\n",
       "        ),\n",
       "    ],\n",
       "    lines_after_decorators=[],\n",
       "    whitespace_after_def=SimpleWhitespace(\n",
       "        value=' ',\n",
       "    ),\n",
       "    whitespace_after_name=SimpleWhitespace(\n",
       "        value='',\n",
       "    ),\n",
       "    whitespace_before_params=SimpleWhitespace(\n",
       "        value='',\n",
       "    ),\n",
       "    whitespace_before_colon=SimpleWhitespace(\n",
       "        value='',\n",
       "    ),\n",
       ")"
      ]
     },
     "execution_count": 46,
     "metadata": {},
     "output_type": "execute_result"
    }
   ],
   "source": [
    "class_node = class_nodes_iter[4]\n",
    "class_node"
   ]
  },
  {
   "cell_type": "code",
   "execution_count": null,
   "metadata": {},
   "outputs": [],
   "source": [
    "method_nodes_iter = class_node.body.body\n",
    "method_nodes_iter"
   ]
  },
  {
   "cell_type": "code",
   "execution_count": null,
   "metadata": {},
   "outputs": [],
   "source": [
    "method_node = method_nodes_iter[0]\n",
    "method_node"
   ]
  },
  {
   "cell_type": "code",
   "execution_count": null,
   "metadata": {},
   "outputs": [],
   "source": [
    "method_node.body"
   ]
  },
  {
   "cell_type": "code",
   "execution_count": null,
   "metadata": {},
   "outputs": [],
   "source": [
    "class_def.body.body[2].body.body[0].body[0].value.func.attr"
   ]
  },
  {
   "cell_type": "code",
   "execution_count": null,
   "metadata": {},
   "outputs": [],
   "source": [
    "hasattr(class_def, 'body')"
   ]
  },
  {
   "cell_type": "code",
   "execution_count": null,
   "metadata": {},
   "outputs": [],
   "source": [
    "class_def.body.header, class_def.body.footer, class_def.body.indent"
   ]
  },
  {
   "cell_type": "code",
   "execution_count": null,
   "metadata": {},
   "outputs": [],
   "source": [
    "print(example_code_cst.code)"
   ]
  },
  {
   "cell_type": "code",
   "execution_count": null,
   "metadata": {},
   "outputs": [],
   "source": [
    "example_code_cst.body[0].body"
   ]
  },
  {
   "cell_type": "code",
   "execution_count": null,
   "metadata": {},
   "outputs": [],
   "source": [
    "def sort_functions(functions_list: list):\n",
    "    df = pd.DataFrame([(b.name.value, b) for b in functions_list], columns=['func_name', 'body'])\n",
    "    df['is_magic'] = df['func_name'].str.startswith('__') & df['func_name'].str.endswith('__')\n",
    "    df['is_public'] = ~df['func_name'].apply(lambda x: re.search('^_[a-zA-Z]', x) is not None)\n",
    "    df_2 = df.sort_values(['is_magic', 'is_public'], ascending=False)\n",
    "    sorted_functions_list = df_2['body'].tolist()\n",
    "    return sorted_functions_list"
   ]
  },
  {
   "cell_type": "code",
   "execution_count": null,
   "metadata": {},
   "outputs": [],
   "source": [
    "class TypingTransformer(cst.CSTTransformer):\n",
    "    def visit_ClassDef(self, node: cst.IndentedBlock) -> Optional[bool]:\n",
    "        pass\n",
    "        \n",
    "    def leave_ClassDef(self, original_node: cst.ClassDef, updated_node: cst.ClassDef) -> cst.CSTNode:        \n",
    "        if isinstance(original_node, cst.ClassDef):\n",
    "            print('changing')\n",
    "            new_body = updated_node.body.with_changes(body=sort_functions(updated_node.body.body))\n",
    "            updated_node_2 = updated_node.with_changes(body=new_body)\n",
    "            return updated_node_2\n",
    "        return updated_node"
   ]
  },
  {
   "cell_type": "code",
   "execution_count": null,
   "metadata": {},
   "outputs": [],
   "source": [
    "transformer = TypingTransformer()\n",
    "modified_tree = example_code_cst.visit(transformer)\n",
    "print(example_code_cst.code)\n",
    "print(modified_tree.code)"
   ]
  },
  {
   "cell_type": "code",
   "execution_count": null,
   "metadata": {},
   "outputs": [],
   "source": [
    "example_code_cst.body[0].body"
   ]
  },
  {
   "cell_type": "code",
   "execution_count": null,
   "metadata": {},
   "outputs": [],
   "source": [
    "re.search('^__.*__$', '__sdf__')"
   ]
  },
  {
   "cell_type": "code",
   "execution_count": 27,
   "metadata": {},
   "outputs": [],
   "source": [
    "class CallGraphCollector(cst.CSTVisitor):\n",
    "    def __init__(self):\n",
    "        self._used_methods_list : List[str] = []\n",
    "\n",
    "    def visit_Attribute(self, node: cst.Attribute):\n",
    "        if node.value.value == 'self':\n",
    "            self._used_methods_list.append(node.attr.value)\n",
    "            print(node.attr.value)\n",
    "    \n",
    "    def get_used_methods_list(self):\n",
    "        return self._used_methods_list"
   ]
  },
  {
   "cell_type": "code",
   "execution_count": 28,
   "metadata": {},
   "outputs": [
    {
     "name": "stdout",
     "output_type": "stream",
     "text": [
      "b\n",
      "_a\n"
     ]
    }
   ],
   "source": [
    "collector = CallGraphCollector()\n",
    "l = class_node.visit(collector)"
   ]
  },
  {
   "cell_type": "code",
   "execution_count": 29,
   "metadata": {},
   "outputs": [
    {
     "data": {
      "text/plain": [
       "['b', '_a']"
      ]
     },
     "execution_count": 29,
     "metadata": {},
     "output_type": "execute_result"
    }
   ],
   "source": [
    "collector.get_used_methods_list()"
   ]
  },
  {
   "cell_type": "code",
   "execution_count": 47,
   "metadata": {},
   "outputs": [
    {
     "name": "stdout",
     "output_type": "stream",
     "text": [
      "_k\n",
      "_a\n",
      "b\n",
      "b\n",
      "_a\n"
     ]
    }
   ],
   "source": [
    "call_graph = []\n",
    "for node in class_nodes_iter:\n",
    "    if isinstance(node, cst.FunctionDef):\n",
    "        collector = CallGraphCollector()\n",
    "        node.visit(collector)\n",
    "        used_methods_list = collector.get_used_methods_list()\n",
    "        call_graph.append((node.name.value, node, used_methods_list))\n",
    "# call_graph"
   ]
  },
  {
   "cell_type": "code",
   "execution_count": 55,
   "metadata": {},
   "outputs": [
    {
     "data": {
      "text/html": [
       "<div>\n",
       "<style scoped>\n",
       "    .dataframe tbody tr th:only-of-type {\n",
       "        vertical-align: middle;\n",
       "    }\n",
       "\n",
       "    .dataframe tbody tr th {\n",
       "        vertical-align: top;\n",
       "    }\n",
       "\n",
       "    .dataframe thead th {\n",
       "        text-align: right;\n",
       "    }\n",
       "</style>\n",
       "<table border=\"1\" class=\"dataframe\">\n",
       "  <thead>\n",
       "    <tr style=\"text-align: right;\">\n",
       "      <th></th>\n",
       "      <th>func_name</th>\n",
       "      <th>node</th>\n",
       "      <th>used_objects</th>\n",
       "    </tr>\n",
       "  </thead>\n",
       "  <tbody>\n",
       "    <tr>\n",
       "      <th>0</th>\n",
       "      <td>__init__</td>\n",
       "      <td>FunctionDef(\\n    name=Name(\\n        value='_...</td>\n",
       "      <td>[_k]</td>\n",
       "    </tr>\n",
       "    <tr>\n",
       "      <th>1</th>\n",
       "      <td>_a</td>\n",
       "      <td>FunctionDef(\\n    name=Name(\\n        value='_...</td>\n",
       "      <td>[]</td>\n",
       "    </tr>\n",
       "    <tr>\n",
       "      <th>2</th>\n",
       "      <td>_c</td>\n",
       "      <td>FunctionDef(\\n    name=Name(\\n        value='_...</td>\n",
       "      <td>[_a, b]</td>\n",
       "    </tr>\n",
       "    <tr>\n",
       "      <th>3</th>\n",
       "      <td>b</td>\n",
       "      <td>FunctionDef(\\n    name=Name(\\n        value='b...</td>\n",
       "      <td>[]</td>\n",
       "    </tr>\n",
       "    <tr>\n",
       "      <th>4</th>\n",
       "      <td>d</td>\n",
       "      <td>FunctionDef(\\n    name=Name(\\n        value='d...</td>\n",
       "      <td>[b, _a]</td>\n",
       "    </tr>\n",
       "  </tbody>\n",
       "</table>\n",
       "</div>"
      ],
      "text/plain": [
       "  func_name                                               node used_objects\n",
       "0  __init__  FunctionDef(\\n    name=Name(\\n        value='_...         [_k]\n",
       "1        _a  FunctionDef(\\n    name=Name(\\n        value='_...           []\n",
       "2        _c  FunctionDef(\\n    name=Name(\\n        value='_...      [_a, b]\n",
       "3         b  FunctionDef(\\n    name=Name(\\n        value='b...           []\n",
       "4         d  FunctionDef(\\n    name=Name(\\n        value='d...      [b, _a]"
      ]
     },
     "execution_count": 55,
     "metadata": {},
     "output_type": "execute_result"
    }
   ],
   "source": [
    "a = pd.DataFrame(call_graph, columns=['func_name', 'node', 'used_objects'])\n",
    "a"
   ]
  },
  {
   "cell_type": "code",
   "execution_count": 56,
   "metadata": {},
   "outputs": [
    {
     "data": {
      "text/plain": [
       "['__init__', '_a', '_c', 'b', 'd']"
      ]
     },
     "execution_count": 56,
     "metadata": {},
     "output_type": "execute_result"
    }
   ],
   "source": [
    "b = a.func_name.tolist()\n",
    "b"
   ]
  },
  {
   "cell_type": "code",
   "execution_count": 69,
   "metadata": {},
   "outputs": [],
   "source": [
    "a['used_functions'] = a['used_objects'].apply(lambda x: list(set(x).intersection(b)))"
   ]
  },
  {
   "cell_type": "code",
   "execution_count": 70,
   "metadata": {},
   "outputs": [
    {
     "data": {
      "text/html": [
       "<div>\n",
       "<style scoped>\n",
       "    .dataframe tbody tr th:only-of-type {\n",
       "        vertical-align: middle;\n",
       "    }\n",
       "\n",
       "    .dataframe tbody tr th {\n",
       "        vertical-align: top;\n",
       "    }\n",
       "\n",
       "    .dataframe thead th {\n",
       "        text-align: right;\n",
       "    }\n",
       "</style>\n",
       "<table border=\"1\" class=\"dataframe\">\n",
       "  <thead>\n",
       "    <tr style=\"text-align: right;\">\n",
       "      <th></th>\n",
       "      <th>func_name</th>\n",
       "      <th>node</th>\n",
       "      <th>used_objects</th>\n",
       "      <th>used_functions</th>\n",
       "    </tr>\n",
       "  </thead>\n",
       "  <tbody>\n",
       "    <tr>\n",
       "      <th>0</th>\n",
       "      <td>__init__</td>\n",
       "      <td>FunctionDef(\\n    name=Name(\\n        value='_...</td>\n",
       "      <td>[_k]</td>\n",
       "      <td>[]</td>\n",
       "    </tr>\n",
       "    <tr>\n",
       "      <th>1</th>\n",
       "      <td>_a</td>\n",
       "      <td>FunctionDef(\\n    name=Name(\\n        value='_...</td>\n",
       "      <td>[]</td>\n",
       "      <td>[]</td>\n",
       "    </tr>\n",
       "    <tr>\n",
       "      <th>2</th>\n",
       "      <td>_c</td>\n",
       "      <td>FunctionDef(\\n    name=Name(\\n        value='_...</td>\n",
       "      <td>[_a, b]</td>\n",
       "      <td>[_a, b]</td>\n",
       "    </tr>\n",
       "    <tr>\n",
       "      <th>3</th>\n",
       "      <td>b</td>\n",
       "      <td>FunctionDef(\\n    name=Name(\\n        value='b...</td>\n",
       "      <td>[]</td>\n",
       "      <td>[]</td>\n",
       "    </tr>\n",
       "    <tr>\n",
       "      <th>4</th>\n",
       "      <td>d</td>\n",
       "      <td>FunctionDef(\\n    name=Name(\\n        value='d...</td>\n",
       "      <td>[b, _a]</td>\n",
       "      <td>[_a, b]</td>\n",
       "    </tr>\n",
       "  </tbody>\n",
       "</table>\n",
       "</div>"
      ],
      "text/plain": [
       "  func_name                                               node used_objects  \\\n",
       "0  __init__  FunctionDef(\\n    name=Name(\\n        value='_...         [_k]   \n",
       "1        _a  FunctionDef(\\n    name=Name(\\n        value='_...           []   \n",
       "2        _c  FunctionDef(\\n    name=Name(\\n        value='_...      [_a, b]   \n",
       "3         b  FunctionDef(\\n    name=Name(\\n        value='b...           []   \n",
       "4         d  FunctionDef(\\n    name=Name(\\n        value='d...      [b, _a]   \n",
       "\n",
       "  used_functions  \n",
       "0             []  \n",
       "1             []  \n",
       "2        [_a, b]  \n",
       "3             []  \n",
       "4        [_a, b]  "
      ]
     },
     "execution_count": 70,
     "metadata": {},
     "output_type": "execute_result"
    }
   ],
   "source": [
    "a"
   ]
  },
  {
   "cell_type": "code",
   "execution_count": 71,
   "metadata": {},
   "outputs": [],
   "source": []
  },
  {
   "cell_type": "code",
   "execution_count": 93,
   "metadata": {},
   "outputs": [
    {
     "data": {
      "text/plain": [
       "'2.4'"
      ]
     },
     "execution_count": 93,
     "metadata": {},
     "output_type": "execute_result"
    }
   ],
   "source": [
    "nx.__version__"
   ]
  },
  {
   "cell_type": "code",
   "execution_count": 80,
   "metadata": {},
   "outputs": [
    {
     "data": {
      "text/plain": [
       "<networkx.classes.digraph.DiGraph at 0x7ff36f5a8c50>"
      ]
     },
     "execution_count": 80,
     "metadata": {},
     "output_type": "execute_result"
    }
   ],
   "source": [
    "G"
   ]
  },
  {
   "cell_type": "code",
   "execution_count": 81,
   "metadata": {},
   "outputs": [
    {
     "data": {
      "image/png": "[encoded data removed]",
      "text/plain": [
       "<Figure size 432x288 with 1 Axes>"
      ]
     },
     "metadata": {},
     "output_type": "display_data"
    }
   ],
   "source": [
    "nx.draw_networkx(G)"
   ]
  },
  {
   "cell_type": "code",
   "execution_count": 82,
   "metadata": {},
   "outputs": [
    {
     "data": {
      "text/plain": [
       "['root', '_c', 'b']"
      ]
     },
     "execution_count": 82,
     "metadata": {},
     "output_type": "execute_result"
    }
   ],
   "source": [
    "max(nx.all_simple_paths(G, ROOT, 'b'), key=lambda x: len(x))"
   ]
  },
  {
   "cell_type": "code",
   "execution_count": 85,
   "metadata": {},
   "outputs": [],
   "source": [
    "a['distance'] = a['func_name'].apply(lambda y: len(max(nx.all_simple_paths(G, ROOT, y), key=lambda x: len(x))) - 1)"
   ]
  },
  {
   "cell_type": "code",
   "execution_count": 87,
   "metadata": {},
   "outputs": [
    {
     "data": {
      "text/html": [
       "<div>\n",
       "<style scoped>\n",
       "    .dataframe tbody tr th:only-of-type {\n",
       "        vertical-align: middle;\n",
       "    }\n",
       "\n",
       "    .dataframe tbody tr th {\n",
       "        vertical-align: top;\n",
       "    }\n",
       "\n",
       "    .dataframe thead th {\n",
       "        text-align: right;\n",
       "    }\n",
       "</style>\n",
       "<table border=\"1\" class=\"dataframe\">\n",
       "  <thead>\n",
       "    <tr style=\"text-align: right;\">\n",
       "      <th></th>\n",
       "      <th>func_name</th>\n",
       "      <th>node</th>\n",
       "      <th>used_objects</th>\n",
       "      <th>used_functions</th>\n",
       "      <th>distance</th>\n",
       "    </tr>\n",
       "  </thead>\n",
       "  <tbody>\n",
       "    <tr>\n",
       "      <th>0</th>\n",
       "      <td>__init__</td>\n",
       "      <td>FunctionDef(\\n    name=Name(\\n        value='_...</td>\n",
       "      <td>[_k]</td>\n",
       "      <td>[]</td>\n",
       "      <td>1</td>\n",
       "    </tr>\n",
       "    <tr>\n",
       "      <th>1</th>\n",
       "      <td>_a</td>\n",
       "      <td>FunctionDef(\\n    name=Name(\\n        value='_...</td>\n",
       "      <td>[]</td>\n",
       "      <td>[]</td>\n",
       "      <td>2</td>\n",
       "    </tr>\n",
       "    <tr>\n",
       "      <th>2</th>\n",
       "      <td>_c</td>\n",
       "      <td>FunctionDef(\\n    name=Name(\\n        value='_...</td>\n",
       "      <td>[_a, b]</td>\n",
       "      <td>[_a, b]</td>\n",
       "      <td>1</td>\n",
       "    </tr>\n",
       "    <tr>\n",
       "      <th>3</th>\n",
       "      <td>b</td>\n",
       "      <td>FunctionDef(\\n    name=Name(\\n        value='b...</td>\n",
       "      <td>[]</td>\n",
       "      <td>[]</td>\n",
       "      <td>2</td>\n",
       "    </tr>\n",
       "    <tr>\n",
       "      <th>4</th>\n",
       "      <td>d</td>\n",
       "      <td>FunctionDef(\\n    name=Name(\\n        value='d...</td>\n",
       "      <td>[b, _a]</td>\n",
       "      <td>[_a, b]</td>\n",
       "      <td>1</td>\n",
       "    </tr>\n",
       "  </tbody>\n",
       "</table>\n",
       "</div>"
      ],
      "text/plain": [
       "  func_name                                               node used_objects  \\\n",
       "0  __init__  FunctionDef(\\n    name=Name(\\n        value='_...         [_k]   \n",
       "1        _a  FunctionDef(\\n    name=Name(\\n        value='_...           []   \n",
       "2        _c  FunctionDef(\\n    name=Name(\\n        value='_...      [_a, b]   \n",
       "3         b  FunctionDef(\\n    name=Name(\\n        value='b...           []   \n",
       "4         d  FunctionDef(\\n    name=Name(\\n        value='d...      [b, _a]   \n",
       "\n",
       "  used_functions  distance  \n",
       "0             []         1  \n",
       "1             []         2  \n",
       "2        [_a, b]         1  \n",
       "3             []         2  \n",
       "4        [_a, b]         1  "
      ]
     },
     "execution_count": 87,
     "metadata": {},
     "output_type": "execute_result"
    }
   ],
   "source": [
    "a"
   ]
  },
  {
   "cell_type": "code",
   "execution_count": null,
   "metadata": {},
   "outputs": [],
   "source": [
    "class CallGraphCollector(cst.CSTVisitor):\n",
    "    def __init__(self):\n",
    "        self._used_methods_list : List[str] = []\n",
    "\n",
    "    def visit_Attribute(self, node: cst.Attribute):\n",
    "        if node.value.value == 'self':\n",
    "            self._used_methods_list.append(node.attr.value)\n",
    "            print(node.attr.value)\n",
    "    \n",
    "    def get_used_methods_list(self):\n",
    "        return self._used_methods_list"
   ]
  },
  {
   "cell_type": "code",
   "execution_count": 91,
   "metadata": {},
   "outputs": [
    {
     "name": "stdout",
     "output_type": "stream",
     "text": [
      "b\n",
      "_a\n",
      "_k\n",
      "_a\n",
      "b\n",
      "b\n",
      "_a\n",
      "__init__\n",
      "_a\n",
      "_c\n",
      "b\n",
      "d\n"
     ]
    }
   ],
   "source": [
    "collector = CallGraphCollector()\n",
    "l = class_node.visit(collector)\n",
    "\n",
    "call_graph = []\n",
    "for node in class_nodes_iter:\n",
    "    if isinstance(node, cst.FunctionDef):\n",
    "        collector = CallGraphCollector()\n",
    "        node.visit(collector)\n",
    "        used_methods_list = collector.get_used_methods_list()\n",
    "        call_graph.append((node.name.value, node, used_methods_list))\n",
    "        \n",
    "a = pd.DataFrame(call_graph, columns=['func_name', 'node', 'used_objects'])\n",
    "a['used_functions'] = a['used_objects'].apply(lambda x: list(set(x).intersection(b)))\n",
    "\n",
    "G = nx.DiGraph()\n",
    "ROOT = 'root'\n",
    "G.add_node(ROOT)\n",
    "\n",
    "for index, row in a.iterrows():\n",
    "    print(row['func_name'])\n",
    "    G.add_node(row['func_name'])\n",
    "    \n",
    "for index, row in a.iterrows():\n",
    "    G.add_edge(ROOT, row['func_name'])\n",
    "    for called_func in row['used_functions']:\n",
    "        G.add_edge(row['func_name'], called_func)\n",
    "        \n",
    "a['distance'] = a['func_name'].apply(lambda y: len(max(nx.all_simple_paths(G, ROOT, y), key=lambda x: len(x))) - 1)"
   ]
  },
  {
   "cell_type": "code",
   "execution_count": 92,
   "metadata": {},
   "outputs": [
    {
     "data": {
      "text/html": [
       "<div>\n",
       "<style scoped>\n",
       "    .dataframe tbody tr th:only-of-type {\n",
       "        vertical-align: middle;\n",
       "    }\n",
       "\n",
       "    .dataframe tbody tr th {\n",
       "        vertical-align: top;\n",
       "    }\n",
       "\n",
       "    .dataframe thead th {\n",
       "        text-align: right;\n",
       "    }\n",
       "</style>\n",
       "<table border=\"1\" class=\"dataframe\">\n",
       "  <thead>\n",
       "    <tr style=\"text-align: right;\">\n",
       "      <th></th>\n",
       "      <th>func_name</th>\n",
       "      <th>node</th>\n",
       "      <th>used_objects</th>\n",
       "      <th>used_functions</th>\n",
       "      <th>distance</th>\n",
       "    </tr>\n",
       "  </thead>\n",
       "  <tbody>\n",
       "    <tr>\n",
       "      <th>0</th>\n",
       "      <td>__init__</td>\n",
       "      <td>FunctionDef(\\n    name=Name(\\n        value='_...</td>\n",
       "      <td>[_k]</td>\n",
       "      <td>[]</td>\n",
       "      <td>1</td>\n",
       "    </tr>\n",
       "    <tr>\n",
       "      <th>1</th>\n",
       "      <td>_a</td>\n",
       "      <td>FunctionDef(\\n    name=Name(\\n        value='_...</td>\n",
       "      <td>[]</td>\n",
       "      <td>[]</td>\n",
       "      <td>2</td>\n",
       "    </tr>\n",
       "    <tr>\n",
       "      <th>2</th>\n",
       "      <td>_c</td>\n",
       "      <td>FunctionDef(\\n    name=Name(\\n        value='_...</td>\n",
       "      <td>[_a, b]</td>\n",
       "      <td>[_a, b]</td>\n",
       "      <td>1</td>\n",
       "    </tr>\n",
       "    <tr>\n",
       "      <th>3</th>\n",
       "      <td>b</td>\n",
       "      <td>FunctionDef(\\n    name=Name(\\n        value='b...</td>\n",
       "      <td>[]</td>\n",
       "      <td>[]</td>\n",
       "      <td>2</td>\n",
       "    </tr>\n",
       "    <tr>\n",
       "      <th>4</th>\n",
       "      <td>d</td>\n",
       "      <td>FunctionDef(\\n    name=Name(\\n        value='d...</td>\n",
       "      <td>[b, _a]</td>\n",
       "      <td>[_a, b]</td>\n",
       "      <td>1</td>\n",
       "    </tr>\n",
       "  </tbody>\n",
       "</table>\n",
       "</div>"
      ],
      "text/plain": [
       "  func_name                                               node used_objects  \\\n",
       "0  __init__  FunctionDef(\\n    name=Name(\\n        value='_...         [_k]   \n",
       "1        _a  FunctionDef(\\n    name=Name(\\n        value='_...           []   \n",
       "2        _c  FunctionDef(\\n    name=Name(\\n        value='_...      [_a, b]   \n",
       "3         b  FunctionDef(\\n    name=Name(\\n        value='b...           []   \n",
       "4         d  FunctionDef(\\n    name=Name(\\n        value='d...      [b, _a]   \n",
       "\n",
       "  used_functions  distance  \n",
       "0             []         1  \n",
       "1             []         2  \n",
       "2        [_a, b]         1  \n",
       "3             []         2  \n",
       "4        [_a, b]         1  "
      ]
     },
     "execution_count": 92,
     "metadata": {},
     "output_type": "execute_result"
    }
   ],
   "source": [
    "a"
   ]
  },
  {
   "cell_type": "code",
   "execution_count": null,
   "metadata": {},
   "outputs": [],
   "source": []
  }
 ],
 "metadata": {
  "kernelspec": {
   "display_name": "Python 3",
   "language": "python",
   "name": "python3"
  },
  "language_info": {
   "codemirror_mode": {
    "name": "ipython",
    "version": 3
   },
   "file_extension": ".py",
   "mimetype": "text/x-python",
   "name": "python",
   "nbconvert_exporter": "python",
   "pygments_lexer": "ipython3",
   "version": "3.7.6"
  }
 },
 "nbformat": 4,
 "nbformat_minor": 4
}
